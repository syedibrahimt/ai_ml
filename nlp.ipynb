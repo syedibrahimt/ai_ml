{
  "nbformat": 4,
  "nbformat_minor": 0,
  "metadata": {
    "colab": {
      "provenance": [],
      "authorship_tag": "ABX9TyM2Jp1w8LdcetxKO6L8Wc3n",
      "include_colab_link": true
    },
    "kernelspec": {
      "name": "python3",
      "display_name": "Python 3"
    },
    "language_info": {
      "name": "python"
    }
  },
  "cells": [
    {
      "cell_type": "markdown",
      "metadata": {
        "id": "view-in-github",
        "colab_type": "text"
      },
      "source": [
        "<a href=\"https://colab.research.google.com/github/syedibrahimt/ai_ml/blob/main/nlp.ipynb\" target=\"_parent\"><img src=\"https://colab.research.google.com/assets/colab-badge.svg\" alt=\"Open In Colab\"/></a>"
      ]
    },
    {
      "cell_type": "code",
      "execution_count": 3,
      "metadata": {
        "id": "ZFnW9tsT1Ce1"
      },
      "outputs": [],
      "source": [
        "sentence = \"This is the statement which has my name Syed Ibrahim in upper case letter\""
      ]
    },
    {
      "cell_type": "code",
      "source": [
        "sentence_lower = sentence.lower()\n",
        "print(sentence_lower)"
      ],
      "metadata": {
        "colab": {
          "base_uri": "https://localhost:8080/"
        },
        "id": "f1lKmT4C1Tu1",
        "outputId": "14a0342f-465c-45ca-ed86-8bc21cd8ced4"
      },
      "execution_count": 4,
      "outputs": [
        {
          "output_type": "stream",
          "name": "stdout",
          "text": [
            "this is the statement which has my name syed ibrahim in upper case letter\n"
          ]
        }
      ]
    },
    {
      "cell_type": "code",
      "source": [],
      "metadata": {
        "id": "QdeagIpI1ZDb"
      },
      "execution_count": 4,
      "outputs": []
    }
  ]
}