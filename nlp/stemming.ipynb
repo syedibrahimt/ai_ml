{
 "cells": [
  {
   "cell_type": "markdown",
   "id": "97779cbb",
   "metadata": {},
   "source": [
    "### stemming using PortStemmer"
   ]
  },
  {
   "cell_type": "code",
   "execution_count": 1,
   "id": "33b6b462",
   "metadata": {},
   "outputs": [],
   "source": [
    "from nltk import PorterStemmer\n",
    "ps = PorterStemmer()\n",
    "\n"
   ]
  },
  {
   "cell_type": "code",
   "execution_count": 5,
   "id": "6779902c",
   "metadata": {},
   "outputs": [
    {
     "data": {
      "text/plain": [
       "[('connecting', 'connect'), ('connected', 'connect'), ('connect', 'connect')]"
      ]
     },
     "execution_count": 5,
     "metadata": {},
     "output_type": "execute_result"
    }
   ],
   "source": [
    "connect_words = ['connecting', 'connected', 'connect']\n",
    "\n",
    "[(word,ps.stem(word)) for word in connect_words]"
   ]
  },
  {
   "cell_type": "code",
   "execution_count": null,
   "id": "b3ea6fe4",
   "metadata": {},
   "outputs": [],
   "source": []
  }
 ],
 "metadata": {
  "kernelspec": {
   "display_name": ".venv",
   "language": "python",
   "name": "python3"
  },
  "language_info": {
   "codemirror_mode": {
    "name": "ipython",
    "version": 3
   },
   "file_extension": ".py",
   "mimetype": "text/x-python",
   "name": "python",
   "nbconvert_exporter": "python",
   "pygments_lexer": "ipython3",
   "version": "3.13.2"
  }
 },
 "nbformat": 4,
 "nbformat_minor": 5
}
