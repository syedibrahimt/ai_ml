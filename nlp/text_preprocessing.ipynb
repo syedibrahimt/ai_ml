{
 "cells": [
  {
   "cell_type": "code",
   "execution_count": 1,
   "id": "5afd83d1",
   "metadata": {},
   "outputs": [
    {
     "name": "stdout",
     "output_type": "stream",
     "text": [
      "Hello\n"
     ]
    }
   ],
   "source": [
    "print(\"Hello\")"
   ]
  },
  {
   "cell_type": "code",
   "execution_count": 2,
   "id": "94a3f641",
   "metadata": {},
   "outputs": [
    {
     "data": {
      "text/plain": [
       "'my name is syed ibrahim'"
      ]
     },
     "execution_count": 2,
     "metadata": {},
     "output_type": "execute_result"
    }
   ],
   "source": [
    "sentence = \"My name is Syed Ibrahim\"\n",
    "sentence.lower()"
   ]
  },
  {
   "cell_type": "code",
   "execution_count": 3,
   "id": "33adc841",
   "metadata": {},
   "outputs": [
    {
     "data": {
      "text/plain": [
       "['this is first sentence', 'this is second sentence', 'this is third sentence']"
      ]
     },
     "execution_count": 3,
     "metadata": {},
     "output_type": "execute_result"
    }
   ],
   "source": [
    "sentence_list = [\"This is first sentence\", \"This is Second sentence\", \"This Is Third Sentence\"]\n",
    "[s.lower() for s in sentence_list]"
   ]
  },
  {
   "cell_type": "code",
   "execution_count": 4,
   "id": "1f3c57d5",
   "metadata": {},
   "outputs": [
    {
     "data": {
      "text/plain": [
       "['This is first sentence', 'This is Second sentence', 'This Is Third Sentence']"
      ]
     },
     "execution_count": 4,
     "metadata": {},
     "output_type": "execute_result"
    }
   ],
   "source": [
    "sentence_list"
   ]
  },
  {
   "cell_type": "code",
   "execution_count": 5,
   "id": "d369bfed",
   "metadata": {},
   "outputs": [
    {
     "name": "stdout",
     "output_type": "stream",
     "text": [
      "['this is first sentence', 'this is second sentence', 'this is third sentence']\n"
     ]
    }
   ],
   "source": [
    "lower_sentence = [s.lower() for s in sentence_list]\n",
    "print(lower_sentence)"
   ]
  },
  {
   "cell_type": "code",
   "execution_count": null,
   "id": "4a5c4852",
   "metadata": {},
   "outputs": [],
   "source": []
  }
 ],
 "metadata": {
  "kernelspec": {
   "display_name": ".venv",
   "language": "python",
   "name": "python3"
  },
  "language_info": {
   "codemirror_mode": {
    "name": "ipython",
    "version": 3
   },
   "file_extension": ".py",
   "mimetype": "text/x-python",
   "name": "python",
   "nbconvert_exporter": "python",
   "pygments_lexer": "ipython3",
   "version": "3.13.2"
  }
 },
 "nbformat": 4,
 "nbformat_minor": 5
}
