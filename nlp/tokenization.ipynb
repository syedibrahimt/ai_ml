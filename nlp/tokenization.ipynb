{
 "cells": [
  {
   "cell_type": "markdown",
   "id": "ddf9e2b5",
   "metadata": {},
   "source": [
    "### import the nltk tokenization module"
   ]
  },
  {
   "cell_type": "code",
   "execution_count": 1,
   "id": "d557f701",
   "metadata": {},
   "outputs": [
    {
     "name": "stderr",
     "output_type": "stream",
     "text": [
      "[nltk_data] Downloading package punkt_tab to\n",
      "[nltk_data]     /Users/syedibrahim/nltk_data...\n",
      "[nltk_data]   Unzipping tokenizers/punkt_tab.zip.\n"
     ]
    },
    {
     "data": {
      "text/plain": [
       "True"
      ]
     },
     "execution_count": 1,
     "metadata": {},
     "output_type": "execute_result"
    }
   ],
   "source": [
    "import nltk\n",
    "nltk.download('punkt_tab')"
   ]
  },
  {
   "cell_type": "code",
   "execution_count": 2,
   "id": "3d350802",
   "metadata": {},
   "outputs": [],
   "source": [
    "from nltk.tokenize import sent_tokenize, word_tokenize\n",
    "\n",
    "sentence = \"Hakeem is a good boy and he is 1 year old. he know Allah is the creator\""
   ]
  },
  {
   "cell_type": "markdown",
   "id": "96cde803",
   "metadata": {},
   "source": [
    "### sentence tokenize & word tokenize"
   ]
  },
  {
   "cell_type": "code",
   "execution_count": 3,
   "id": "6ecd0688",
   "metadata": {},
   "outputs": [
    {
     "data": {
      "text/plain": [
       "['Hakeem is a good boy and he is 1 year old.', 'he know Allah is the creator']"
      ]
     },
     "execution_count": 3,
     "metadata": {},
     "output_type": "execute_result"
    }
   ],
   "source": [
    "sent_tokenize(sentence)"
   ]
  },
  {
   "cell_type": "code",
   "execution_count": 8,
   "id": "81c2bd66",
   "metadata": {},
   "outputs": [
    {
     "data": {
      "text/plain": [
       "['Hakeem',\n",
       " 'is',\n",
       " 'a',\n",
       " 'good',\n",
       " 'boy',\n",
       " 'and',\n",
       " 'he',\n",
       " 'is',\n",
       " '1',\n",
       " 'year',\n",
       " 'old',\n",
       " '.',\n",
       " 'he',\n",
       " 'know',\n",
       " 'Allah',\n",
       " 'is',\n",
       " 'the',\n",
       " 'creator']"
      ]
     },
     "execution_count": 8,
     "metadata": {},
     "output_type": "execute_result"
    }
   ],
   "source": [
    "word_tokenize(sentence)"
   ]
  },
  {
   "cell_type": "code",
   "execution_count": null,
   "id": "e31f4106",
   "metadata": {},
   "outputs": [],
   "source": []
  }
 ],
 "metadata": {
  "kernelspec": {
   "display_name": ".venv",
   "language": "python",
   "name": "python3"
  },
  "language_info": {
   "codemirror_mode": {
    "name": "ipython",
    "version": 3
   },
   "file_extension": ".py",
   "mimetype": "text/x-python",
   "name": "python",
   "nbconvert_exporter": "python",
   "pygments_lexer": "ipython3",
   "version": "3.13.2"
  }
 },
 "nbformat": 4,
 "nbformat_minor": 5
}
