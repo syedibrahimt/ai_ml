{
 "cells": [
  {
   "cell_type": "markdown",
   "id": "ddad7459",
   "metadata": {},
   "source": [
    "### import the re package which is helpful in handling regex"
   ]
  },
  {
   "cell_type": "code",
   "execution_count": 3,
   "id": "5964f2f2",
   "metadata": {},
   "outputs": [],
   "source": [
    "import re"
   ]
  },
  {
   "cell_type": "code",
   "execution_count": 1,
   "id": "92ed43a5",
   "metadata": {},
   "outputs": [],
   "source": [
    "sentence = 'syed hakeem is a good boy and he is 1 year old'"
   ]
  },
  {
   "cell_type": "code",
   "execution_count": 4,
   "id": "d18b2c42",
   "metadata": {},
   "outputs": [
    {
     "data": {
      "text/plain": [
       "<re.Match object; span=(5, 11), match='hakeem'>"
      ]
     },
     "execution_count": 4,
     "metadata": {},
     "output_type": "execute_result"
    }
   ],
   "source": [
    "re.search(\"hakeem\", sentence)"
   ]
  },
  {
   "cell_type": "markdown",
   "id": "46bcf865",
   "metadata": {},
   "source": [
    "### re.sub function to search and replace it with other string"
   ]
  },
  {
   "cell_type": "code",
   "execution_count": 20,
   "id": "0dd3a043",
   "metadata": {},
   "outputs": [
    {
     "name": "stdout",
     "output_type": "stream",
     "text": [
      "Syed hakeem is a good boy and he is 1 year old\n"
     ]
    }
   ],
   "source": [
    "sentence=re.sub(\"syed\", \"Syed\", sentence)\n",
    "print(sentence)"
   ]
  },
  {
   "cell_type": "code",
   "execution_count": 22,
   "id": "5a15a53d",
   "metadata": {},
   "outputs": [],
   "source": [
    "customer_reviews =[\"syed says the product is too good\", \"ibrahim says that the product made him more productive\", \"Hakeem told that the product is very much useful\", \"Also hakeem said that he will suggest this product to everyone in his friends group !\"]"
   ]
  },
  {
   "cell_type": "code",
   "execution_count": 9,
   "id": "6a1c41c6",
   "metadata": {},
   "outputs": [
    {
     "data": {
      "text/plain": [
       "['syed says the product is too good',\n",
       " 'ibrahim says that the product made him more productive',\n",
       " 'Hakeem told that the product is very much useful',\n",
       " 'Also hakeem said that he will suggest this product to everyone in his friends group']"
      ]
     },
     "execution_count": 9,
     "metadata": {},
     "output_type": "execute_result"
    }
   ],
   "source": [
    "customer_reviews"
   ]
  },
  {
   "cell_type": "markdown",
   "id": "42703a25",
   "metadata": {},
   "source": [
    "### To search for a pattern in a string"
   ]
  },
  {
   "cell_type": "code",
   "execution_count": 12,
   "id": "fa0a5781",
   "metadata": {},
   "outputs": [],
   "source": [
    "hakeem_s_review = [review for review in customer_reviews if re.search(r\"hakeem\", review.lower())]"
   ]
  },
  {
   "cell_type": "code",
   "execution_count": 13,
   "id": "ea692c89",
   "metadata": {},
   "outputs": [
    {
     "data": {
      "text/plain": [
       "['Hakeem told that the product is very much useful',\n",
       " 'Also hakeem said that he will suggest this product to everyone in his friends group']"
      ]
     },
     "execution_count": 13,
     "metadata": {},
     "output_type": "execute_result"
    }
   ],
   "source": [
    "hakeem_s_review"
   ]
  },
  {
   "cell_type": "markdown",
   "id": "0c0061de",
   "metadata": {},
   "source": [
    "### To search for the string starting with a letter 'a'\n",
    "### r\"^a\""
   ]
  },
  {
   "cell_type": "code",
   "execution_count": 14,
   "id": "d0991019",
   "metadata": {},
   "outputs": [
    {
     "name": "stdout",
     "output_type": "stream",
     "text": [
      "['Also hakeem said that he will suggest this product to everyone in his friends group']\n"
     ]
    }
   ],
   "source": [
    "a_review = [review for review in customer_reviews if re.search(r\"^a\", review.lower())]\n",
    "print(a_review)"
   ]
  },
  {
   "cell_type": "markdown",
   "id": "89d3f359",
   "metadata": {},
   "source": [
    "### To search for the string ending with letter 'e' \n",
    "### r\"e$\""
   ]
  },
  {
   "cell_type": "code",
   "execution_count": 18,
   "id": "c9cbce8f",
   "metadata": {},
   "outputs": [
    {
     "name": "stdout",
     "output_type": "stream",
     "text": [
      "['ibrahim says that the product made him more productive']\n"
     ]
    }
   ],
   "source": [
    "e_review=[review for review in customer_reviews if re.search(r\"e$\", review)]\n",
    "print(e_review)"
   ]
  },
  {
   "cell_type": "markdown",
   "id": "0f96caab",
   "metadata": {},
   "source": [
    "### To search for the string with words use and suggest"
   ]
  },
  {
   "cell_type": "code",
   "execution_count": 25,
   "id": "996e5644",
   "metadata": {},
   "outputs": [
    {
     "name": "stdout",
     "output_type": "stream",
     "text": [
      "['Hakeem told that the product is very much useful', 'Also hakeem said that he will suggest this product to everyone in his friends group !']\n"
     ]
    }
   ],
   "source": [
    "useful_reviews = [review for review in customer_reviews if re.search(r\"(use|suggest)\", review)]\n",
    "print(useful_reviews)"
   ]
  },
  {
   "cell_type": "markdown",
   "id": "12ebb11c",
   "metadata": {},
   "source": [
    "### reviews without punctuation marks"
   ]
  },
  {
   "cell_type": "code",
   "execution_count": 29,
   "id": "994be4dd",
   "metadata": {},
   "outputs": [
    {
     "name": "stdout",
     "output_type": "stream",
     "text": [
      "['syed says the product is too good', 'ibrahim says that the product made him more productive', 'Hakeem told that the product is very much useful', 'Also hakeem said that he will suggest this product to everyone in his friends group ']\n"
     ]
    }
   ],
   "source": [
    "no_punctuation = [re.sub(r\"[^\\w\\s]\",\"\",review) for review in customer_reviews]\n",
    "print(no_punctuation)"
   ]
  },
  {
   "cell_type": "code",
   "execution_count": null,
   "id": "88a2d032",
   "metadata": {},
   "outputs": [],
   "source": []
  }
 ],
 "metadata": {
  "kernelspec": {
   "display_name": ".venv",
   "language": "python",
   "name": "python3"
  },
  "language_info": {
   "codemirror_mode": {
    "name": "ipython",
    "version": 3
   },
   "file_extension": ".py",
   "mimetype": "text/x-python",
   "name": "python",
   "nbconvert_exporter": "python",
   "pygments_lexer": "ipython3",
   "version": "3.13.2"
  }
 },
 "nbformat": 4,
 "nbformat_minor": 5
}
